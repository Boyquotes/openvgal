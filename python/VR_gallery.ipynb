{
 "cells": [
  {
   "cell_type": "markdown",
   "id": "cbdde8dc",
   "metadata": {},
   "source": [
    "# Build json file from folders"
   ]
  },
  {
   "cell_type": "markdown",
   "id": "0d52cfe7",
   "metadata": {},
   "source": [
    "## Create thumbnails in jpg & fix metadata. Series only contain one item"
   ]
  },
  {
   "cell_type": "code",
   "execution_count": 1,
   "id": "2d53aefa",
   "metadata": {},
   "outputs": [],
   "source": [
    "from PIL import Image\n",
    "import json\n",
    "import glob\n",
    "import re\n",
    "import pandas as pd\n",
    "import os"
   ]
  },
  {
   "cell_type": "code",
   "execution_count": 6,
   "id": "c31522e7",
   "metadata": {},
   "outputs": [],
   "source": [
    "csv_file='building.csv'\n",
    "output_file=\"../../building.json\"\n",
    "image_types=('jpg', 'jpeg', 'png', 'tif')\n",
    "csv_separator=';'"
   ]
  },
  {
   "cell_type": "code",
   "execution_count": 7,
   "id": "1c8850c8",
   "metadata": {},
   "outputs": [],
   "source": [
    "current_directory=os.getcwd() \n",
    "\n",
    "df=pd.read_csv(current_directory + '/' + csv_file, sep=csv_separator)  \n",
    "door_width=1\n",
    "door_height=2\n",
    "\n",
    "building={}\n",
    "for i,row in df.iterrows():\n",
    "    building[df[\"Gallery name\"][i]]={}\n",
    "    building[df[\"Gallery name\"][i]][\"geometry\"]=df.loc[i, 'width': '#items E'].values.astype(int).tolist()\n",
    "    building[df[\"Gallery name\"][i]][\"parent\"]=df.loc[i, 'Parent']\n",
    "    son_galleries=sum(df.Parent==df[\"Gallery name\"][i])\n",
    "    #if has son galleries\n",
    "    if (son_galleries >0):\n",
    "        for j, jrow in df.loc[df[\"Parent\"]==\"root\"].iterrows():\n",
    "            building[df[\"Gallery name\"][i]][jrow[\"Gallery name\"]]={}\n",
    "            building[df[\"Gallery name\"][i]][jrow[\"Gallery name\"]][\"resource\"]=jrow[\"Gallery name\"] +'.glb'\n",
    "            building[df[\"Gallery name\"][i]][jrow[\"Gallery name\"]][\"resource_type\"]='door'\n",
    "            building[df[\"Gallery name\"][i]][jrow[\"Gallery name\"]][\"width\"]= door_width\n",
    "            building[df[\"Gallery name\"][i]][jrow[\"Gallery name\"]][\"height\"]= door_height\n",
    "    else:\n",
    "        files_grabbed = []\n",
    "        for image_type in image_types:\n",
    "            files_grabbed.extend(glob.glob(current_directory + df[\"Folder\"][i] + '/*.' + image_type))\n",
    "        for file_name in files_grabbed:\n",
    "            im=Image.open(file_name)\n",
    "            width, height = im.size\n",
    "            as_ratio=height/width\n",
    "            if (as_ratio<=1):\n",
    "                width=1\n",
    "                height=as_ratio\n",
    "            else:\n",
    "                width=1/as_ratio\n",
    "                height=1\n",
    "\n",
    "            possible_extensions= ''.join(image_type + '|' for image_type in image_types)\n",
    "            possible_extensions = possible_extensions[:-1]\n",
    "            name=re.search(r'.*\\\\(.*).(' + possible_extensions + ')',file_name)[1]\n",
    "            file_name_server=file_name.replace('\\\\','/')\n",
    "            file_name_server=df[\"Folder\"][i] + '/' + re.search(r'.*/(.*)', file_name_server)[1]\n",
    "\n",
    "            building[df[\"Gallery name\"][i]][name]= {\"resource\": file_name_server, \"resource_type\": 'image',\"width\": f'{width:.2f}', \"height\": f'{height:.2f}'}\n",
    "\n",
    "\n",
    "    \n",
    "with open(current_directory + '/' + output_file, \"w\") as fp:\n",
    "    json.dump(building,fp, indent=2)"
   ]
  },
  {
   "cell_type": "code",
   "execution_count": null,
   "id": "06224c54",
   "metadata": {},
   "outputs": [],
   "source": []
  }
 ],
 "metadata": {
  "kernelspec": {
   "display_name": "Python 3",
   "language": "python",
   "name": "python3"
  },
  "language_info": {
   "codemirror_mode": {
    "name": "ipython",
    "version": 3
   },
   "file_extension": ".py",
   "mimetype": "text/x-python",
   "name": "python",
   "nbconvert_exporter": "python",
   "pygments_lexer": "ipython3",
   "version": "3.8.8"
  }
 },
 "nbformat": 4,
 "nbformat_minor": 5
}
